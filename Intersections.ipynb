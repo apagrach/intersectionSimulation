{
 "cells": [
  {
   "cell_type": "code",
   "execution_count": 13,
   "metadata": {},
   "outputs": [],
   "source": [
    "from __future__ import print_function, division\n",
    "\n",
    "%matplotlib inline\n",
    "%precision 3\n",
    "\n",
    "import warnings\n",
    "warnings.filterwarnings('ignore')\n",
    "\n",
    "import numpy as np\n",
    "import matplotlib.pyplot as plt\n",
    "\n",
    "import thinkplot\n",
    "\n",
    "from matplotlib import rc\n",
    "rc('animation', html='html5')\n",
    "from Cell2D import Cell2D, Cell2DViewer\n"
   ]
  },
  {
   "cell_type": "code",
   "execution_count": 466,
   "metadata": {},
   "outputs": [],
   "source": [
    "class Intersection(Cell2D):\n",
    "\n",
    "    def __init__(self, numSlane=1, numNlane=1, numWlane=1, numElane=1, leftElane=0, leftSlane=0, leftNlane=0, leftWlane=0):\n",
    "        self.whiteSpaceConst = 7\n",
    "        m = numNlane*2 + numSlane*2  + self.whiteSpaceConst * 2 + 1 + 2 * leftNlane + 2 * leftSlane\n",
    "        n = numElane * 2 + numWlane*2 + self.whiteSpaceConst * 2 + 1 + 2 * leftElane + 2 * leftWlane\n",
    "        print(n,m)\n",
    "        \n",
    "        self.array = np.zeros((n, m), np.float)\n",
    "        for i in range(self.whiteSpaceConst):\n",
    "            laneConst = 0\n",
    "            for j in range(numNlane):\n",
    "                if j is 0:\n",
    "                    self.array[i, self.whiteSpaceConst + laneConst] = 1\n",
    "                    self.array[n- i -1, self.whiteSpaceConst + laneConst] = 1\n",
    "                else:\n",
    "                    self.array[i, self.whiteSpaceConst + laneConst] = .2\n",
    "                    self.array[n-i-1, self.whiteSpaceConst + laneConst] = .2\n",
    "                laneConst = laneConst + 2\n",
    "\n",
    "\n",
    "            for j in range(leftNlane):\n",
    "                self.array[i, self.whiteSpaceConst + laneConst] = .5\n",
    "                if j == 0:\n",
    "                    self.array[n-i-1, self.whiteSpaceConst + laneConst ] = 1\n",
    "                else:\n",
    "                    self.array[n-i-1, self.whiteSpaceConst + laneConst ] = .5\n",
    "                self.array[n-i-1, self.whiteSpaceConst + laneConst + 2] = .5\n",
    "                laneConst = laneConst + 2\n",
    "\n",
    "                \n",
    "            for j in range(numSlane):\n",
    "                if j is 0:\n",
    "                    if(leftNlane):\n",
    "                        self.array[i, self.whiteSpaceConst + laneConst] = 1\n",
    "                    else:\n",
    "                        self.array[i, self.whiteSpaceConst + laneConst] = 1\n",
    "                        self.array[n- i -1, self.whiteSpaceConst + laneConst] = 1\n",
    "                else:\n",
    "                    self.array[i, self.whiteSpaceConst + laneConst] = .2\n",
    "                    self.array[n-i-1, self.whiteSpaceConst + laneConst] = .2\n",
    "                laneConst = laneConst + 2\n",
    "            \n",
    "            self.array[i, self.whiteSpaceConst + laneConst] = 1\n",
    "            self.array[n-i-1, self.whiteSpaceConst + laneConst] = 1\n",
    "            laneConst = 0\n",
    "            for j in range(numElane):\n",
    "                if j is 0:\n",
    "                    self.array[self.whiteSpaceConst + laneConst, i] = 1\n",
    "                    self.array[ self.whiteSpaceConst + laneConst, m- i -1] = 1\n",
    "                else:\n",
    "                    self.array[self.whiteSpaceConst + laneConst, i ] = .2\n",
    "                    self.array[ self.whiteSpaceConst + laneConst, m-i-1] = .2\n",
    "                laneConst = laneConst + 2\n",
    "                \n",
    "            for j in range(leftWlane):\n",
    "                self.array[self.whiteSpaceConst + laneConst + 2, i] = .5\n",
    "                if j == 0:\n",
    "                    self.array[self.whiteSpaceConst + laneConst, i] = 1\n",
    "                else:\n",
    "                    self.array[ self.whiteSpaceConst + laneConst, m-i-1] = .5\n",
    "                self.array[ self.whiteSpaceConst + laneConst, m-i-1] = .5\n",
    "                self.array[ self.whiteSpaceConst + laneConst + 2, i] = .5\n",
    "                laneConst = laneConst + 2\n",
    "            \n",
    "            for j in range(numWlane):\n",
    "                if j is 0:\n",
    "                    if(leftWlane):\n",
    "                        self.array[self.whiteSpaceConst + laneConst, i] = 0.5\n",
    "\n",
    "                    else:\n",
    "                        self.array[self.whiteSpaceConst + laneConst, i] = 1\n",
    "                        self.array[ self.whiteSpaceConst + laneConst, m- i -1] = 1\n",
    "                    \n",
    "                else:\n",
    "                    self.array[self.whiteSpaceConst + laneConst, i] = .2\n",
    "                    self.array[self.whiteSpaceConst + laneConst, m- i -1] = .2\n",
    "                laneConst = laneConst + 2\n",
    "            \n",
    "            self.array[self.whiteSpaceConst + laneConst, i] = 1\n",
    "            self.array[self.whiteSpaceConst + laneConst, m- i -1] = 1\n",
    "            \n",
    "\n",
    "            \n",
    "       # print(self.array)\n",
    "    def step(self):\n",
    "        self.array[self.whiteSpaceConst + 1, 0] = 0.7"
   ]
  },
  {
   "cell_type": "code",
   "execution_count": 467,
   "metadata": {},
   "outputs": [
    {
     "name": "stdout",
     "output_type": "stream",
     "text": [
      "29 23\n"
     ]
    }
   ],
   "source": [
    "class IntersectionView(Cell2DViewer):\n",
    "    cmap = plt.get_cmap('spectral_r')\n",
    "intersection = Intersection(numNlane=2, numSlane=2, numElane=2, numWlane=3, leftNlane=0, leftWlane=2)\n",
    "viewer = IntersectionView(intersection)"
   ]
  },
  {
   "cell_type": "code",
   "execution_count": 468,
   "metadata": {},
   "outputs": [
    {
     "data": {
      "image/png": "[encoded data removed]",
      "text/plain": [
       "<matplotlib.figure.Figure at 0x7f0ede8f0748>"
      ]
     },
     "metadata": {},
     "output_type": "display_data"
    }
   ],
   "source": [
    "anim = viewer.animate()"
   ]
  },
  {
   "cell_type": "code",
   "execution_count": 450,
   "metadata": {},
   "outputs": [
    {
     "data": {
      "text/html": [
       "<video width=\"432\" height=\"288\" controls autoplay loop>\n",
       "  <source type=\"video/mp4\" src=\"data:video/mp4;base64,AAAAHGZ0eXBNNFYgAAACAGlzb21pc28yYXZjMQAAAAhmcmVlAAAM421kYXQAAAKtBgX//6ncRem9\n",
       "5tlIt5Ys2CDZI+7veDI2NCAtIGNvcmUgMTQ4IHIyNjQzIDVjNjU3MDQgLSBILjI2NC9NUEVHLTQg\n",
       "QVZDIGNvZGVjIC0gQ29weWxlZnQgMjAwMy0yMDE1IC0gaHR0cDovL3d3dy52aWRlb2xhbi5vcmcv\n",
       "eDI2NC5odG1sIC0gb3B0aW9uczogY2FiYWM9MSByZWY9MyBkZWJsb2NrPTE6MDowIGFuYWx5c2U9\n",
       "MHgzOjB4MTEzIG1lPWhleCBzdWJtZT03IHBzeT0xIHBzeV9yZD0xLjAwOjAuMDAgbWl4ZWRfcmVm\n",
       "PTEgbWVfcmFuZ2U9MTYgY2hyb21hX21lPTEgdHJlbGxpcz0xIDh4OGRjdD0xIGNxbT0wIGRlYWR6\n",
       "b25lPTIxLDExIGZhc3RfcHNraXA9MSBjaHJvbWFfcXBfb2Zmc2V0PS0yIHRocmVhZHM9NiBsb29r\n",
       "YWhlYWRfdGhyZWFkcz0xIHNsaWNlZF90aHJlYWRzPTAgbnI9MCBkZWNpbWF0ZT0xIGludGVybGFj\n",
       "ZWQ9MCBibHVyYXlfY29tcGF0PTAgY29uc3RyYWluZWRfaW50cmE9MCBiZnJhbWVzPTMgYl9weXJh\n",
       "bWlkPTIgYl9hZGFwdD0xIGJfYmlhcz0wIGRpcmVjdD0xIHdlaWdodGI9MSBvcGVuX2dvcD0wIHdl\n",
       "aWdodHA9MiBrZXlpbnQ9MjUwIGtleWludF9taW49NSBzY2VuZWN1dD00MCBpbnRyYV9yZWZyZXNo\n",
       "PTAgcmNfbG9va2FoZWFkPTQwIHJjPWNyZiBtYnRyZWU9MSBjcmY9MjMuMCBxY29tcD0wLjYwIHFw\n",
       "bWluPTAgcXBtYXg9NjkgcXBzdGVwPTQgaXBfcmF0aW89MS40MCBhcT0xOjEuMDAAgAAAB4xliIQA\n",
       "FP/+98dPwKbo+WbLnUU9ITCK2PpIKL1Y7NAydQAAAwAARMDHEW1dy48B5gAAYQaIu7N2hH/iAKY6\n",
       "b3VQfhOCtAPuZmgQNQvjJCH8S4bTbi5y+Cxn1DVT9afkqg/Q2xQg36nnJ2z5SG1bP5kKLl0UYEHS\n",
       "QCiyuX3xvViOfdc0b7ePNOOaH2Pdrn97z3AWbl9xsUcFf9FzCCJ6dPc1k4ZFrZmmwveyuhSthNeq\n",
       "+2V3bOuCjbre2nqfLWUEztsM35dfdqIZnH1mphB9RjdFOyICMQVYaZlVRbqneIQ0pNbSePEUhMVH\n",
       "3rfievkJBnO69I8gT3xtVAYo8ivtsje5hxpuG9VCo6+ARW3DT9A99KLFmhqQJbw8qXTW0U6/tK4y\n",
       "DTlHas3fAgeScA2jENpIngIxALsog4+ik+MFyP6BQHM2Lrb9VCQCaDr0cph7icpcs70cgApG5gBf\n",
       "XstXRdyy5Vg08DJueRYaNbZlzanXUgkE0twRfAObkcw7FK8F1INKDaSgwM2MtKxbmKJ8zCJIsT+7\n",
       "mkUJ3yqjL8yJNClNB/5f3RRT7ikcRQ6FuaaToKYXBLXAVsL4KrC7udJZtabtYsUItgQYvz6Ae1Fh\n",
       "GR0vEEaDnAjlNSTQyf916kZ3Bvn1LT7u19RUSECrbBBhg9HQ85nZpD8UXlOMX0z95Brr64tGWFJf\n",
       "xJnGzwN4G42eEHe8yfwULRSKJPyE5gVovTVvkwdDyieP+treL0GBpKVAQ5LEzVh5PizWZAo7mtk2\n",
       "cGUrcSyfiYTb7UBlpv3uVuMYa9SpfmaeB35rj71JVgj+K9IUn/DR4wjeeOdWvJLug3R0GJQ3npyo\n",
       "ZCgM5OpcMiWLOzooDAJWHWhmShK/beW/hdfVfDhg7Slrw2vRtjCdmvTdxNa8CS8u3JAUKDMMFMpY\n",
       "OokjS+qRCPwVcW/jqaerhHsjTi7O3WBftF29a7CQYW9tU9hqPEM/ZnVui5vCd/759aeTQqWpoqB6\n",
       "5q1U9lxPYE7fCckBO17F+1VxGS5m0U99lAjoq3QizDvOKetLE+6R7r3hi7/p9GUp1zbhcf8knBs/\n",
       "kwAAZgI/HpMC3VYMxtSlHWP37b7fLAeXkrC51x2evteSVqHDWY0CgMQoSZhPEQXDlbsJEJH4U2or\n",
       "ebAKBX/H//FwFHaYVyA9BTRPkvd5dWlcAHcpVdRi2u4ZR/bnU0L3tybp063p6//OKeQf1DrBA1cj\n",
       "roGlY/TrQaH5zWZxSp9R00NNpgDjZ/YXJGU+3SYlq2wcrQCRPWZ0vi/hcTnpg2XLqXgbVrNY2ZiC\n",
       "GoTYfnlDrnJnZ1hs1Ui9Y4+YXPxRw9hB8GHQmffejdKfUJJOUqWwo36UNOjiTHWNPSFDQhvCkxVK\n",
       "15XQityMv4rs/J9KQtC/njlbSL63+dFjjt2wSvl1f99nK1/TmrS4niB87P9d2jV0SktMBQsYGxbD\n",
       "voJSLOadAilYwC2RowyrE9ey+UVE/T/tVQ1LTOYbmDSgESCaKXGh2zpz8DObJSCiS6T6nPBpx/Ih\n",
       "h4UEHYv3n/zcL64umOKZoRCn3EZAbpgqT3RMYHN4KTl1G5DvKsiJVfqVNJ8h1os05xO30Kfn6P6B\n",
       "Xsgb1eeWW8UuXEm/D60daAWFGMa4qkvTVgenVY6bRCFVbBCe7A+rL/gNo0+8zjr1uZHSQDyylOiE\n",
       "gnFVkVg/wHksZHJRyUWji+suoqD5bLr3ZCix/FrBSKr39+ieAHa8m+Ma0/ZFY101Eyuns/1RO6vy\n",
       "Il4uMs3UKaIbG/m5hnMBATpJY4RY8bLGDxXUe9GXG4SRHdxPeKOj+EBBlovP7cilqLeNNovabc2m\n",
       "p+jfvBSxu+C+GCkuJU2sLKW9ru+YLComK8RS1AAF68y3Q71YF6IT6SQqbwOEF1OAoge4vwkqnbUt\n",
       "64Dkkr1gm5FMXX3FvVnVP9cr9s8SaEq8diorNI98IHMyxC4Oodw9l8+lMEzTqYAWeI4pRrxuSGAc\n",
       "04/Hq+sYlE07gQ/yqgJpCiZqkLZqyMGtAzEs8b7F6kUDYmq151pmhmqInJhmoE9uxbbnzqsplSfv\n",
       "8hk5qrmjnnDKhFbPtwo8J4RgDSTn+AAA86PGeNVMscl3Y7KSQIyaC5v/RRwMJK4Cpc5jQLX3lZZV\n",
       "ZiEOWxYkZf3tzDKFfGYMuFPFcek+JhC66AEI/tbuzQctOO+ufsxapyp/+RuJdpmNpEcj9lP2z+MA\n",
       "fBc+6PyNRYOs5i2Y9fz/lT2SoNwJfWgEpKucC0EUlA7ytJPlaglW9aUdTfXMuTjMBpcDlEu7L+wU\n",
       "liSVjjM2JwKztXpnRYf0QOeUwXT9Yixq42K22Kh0QBb22Pv144KqMqSMIat6FPlSFAkTvSifPhKC\n",
       "iwvIwfyM9f/tYAqzRinHda7O4bAAATzqCMun15sIoADBE9aUtw/xD7H5t54RSxGeCbVM9MD8CBjg\n",
       "Pn+Lcoce/7ZPnmJhlrus5TWgYz4gGoe38O5l3QnQcDyM7XW1r+i5qF5GZ5YrClCvSf9PQPh+VqiD\n",
       "KYZ9Y0DlXpMOlvBewClRFkU3jhtXQLnf/cYUFPJxsLwuH6b63W4DYQCyBTCADjkAAADzQZokbEE/\n",
       "/rUqgBeG76QAIlNMv78sYeXz/6ifYkzXj2YGlYZGu7ldY3De46Qh+5nyrjJZT6ML6dDNDh9e9tt8\n",
       "+xw6WdFtfieQvaRrq4NfBTmnSfU/jiHpQKsy37AXCz94ToVHbUUfij2FH007/ywIokFZg3X0V5oR\n",
       "e/n3MPEjcrp0c5fWiBLkfgMnU86fYHM9vBt2EcUbnelpXH4xRwc2HxFMnn37hEWlHSPf/oujtse/\n",
       "UAlLOXy/2L96R4ejSQwnxs/xLy9vLPOqjFRLFeoQ37GygqRL9uqR4cLF3wwYr+K6Nmyh0K5bnyQH\n",
       "zmzGbGCJFGjAAAAAJ0GeQniCHwAcKfDlnuHysDd1E1qn+8mR0Ik1/p7c4P1sNOtmIWCbgQAAACAB\n",
       "nmF0Q/8APdXyOz7HPwRfeqfOsIlyERUAmtOAVawTcAAAABcBnmNqQ/8AA3PjmordknVPhofrRuEp\n",
       "gQAAACJBmmhJqEFomUwIJ//+tSqAAUD4Qeq/srhWlWLzzeVBx6VhAAAAGEGehkURLBD/AAGRodM6\n",
       "daX+nBdrqJKsCQAAABYBnqV0Q/8AA3N0YQlOpXN4DQ4pIlWBAAAADAGep2pD/wAAAwBWwAAAABRB\n",
       "mqxJqEFsmUwIJ//+tSqAAAAesAAAAA5BnspFFSwQ/wAAAwAm4QAAAAwBnul0Q/8AAAMAVsAAAAAM\n",
       "AZ7rakP/AAADAFbAAAAAFEGa8EmoQWyZTAgl//61KoAAAB6xAAAADkGfDkUVLBD/AAADACbhAAAA\n",
       "DAGfLXRD/wAAAwBWwQAAAAwBny9qQ/8AAAMAVsAAAAAVQZszSahBbJlMCH///qmWAAADAPCAAAAA\n",
       "DEGfUkIf/wAAAwBWwQAAAAwBn3FpEP8AAAMAVsAAAAQebW9vdgAAAGxtdmhkAAAAAAAAAAAAAAAA\n",
       "AAAD6AAAD6AAAQAAAQAAAAAAAAAAAAAAAAEAAAAAAAAAAAAAAAAAAAABAAAAAAAAAAAAAAAAAABA\n",
       "AAAAAAAAAAAAAAAAAAAAAAAAAAAAAAAAAAAAAAAAAgAAA0h0cmFrAAAAXHRraGQAAAADAAAAAAAA\n",
       "AAAAAAABAAAAAAAAD6AAAAAAAAAAAAAAAAAAAAAAAAEAAAAAAAAAAAAAAAAAAAABAAAAAAAAAAAA\n",
       "AAAAAABAAAAAAbAAAAEgAAAAAAAkZWR0cwAAABxlbHN0AAAAAAAAAAEAAA+gAAAQAAABAAAAAALA\n",
       "bWRpYQAAACBtZGhkAAAAAAAAAAAAAAAAAAAoAAAAoABVxAAAAAAALWhkbHIAAAAAAAAAAHZpZGUA\n",
       "AAAAAAAAAAAAAABWaWRlb0hhbmRsZXIAAAACa21pbmYAAAAUdm1oZAAAAAEAAAAAAAAAAAAAACRk\n",
       "aW5mAAAAHGRyZWYAAAAAAAAAAQAAAAx1cmwgAAAAAQAAAitzdGJsAAAAs3N0c2QAAAAAAAAAAQAA\n",
       "AKNhdmMxAAAAAAAAAAEAAAAAAAAAAAAAAAAAAAAAAbABIABIAAAASAAAAAAAAAABAAAAAAAAAAAA\n",
       "AAAAAAAAAAAAAAAAAAAAAAAAAAAAAAAAGP//AAAAMWF2Y0MBZAAV/+EAGGdkABWs2UGwloQAAAMA\n",
       "BAAAAwAoPFi2WAEABmjr48siwAAAABx1dWlka2hA8l8kT8W6OaUbzwMj8wAAAAAAAAAYc3R0cwAA\n",
       "AAAAAAABAAAAFAAACAAAAAAUc3RzcwAAAAAAAAABAAAAAQAAALBjdHRzAAAAAAAAABQAAAABAAAQ\n",
       "AAAAAAEAACgAAAAAAQAAEAAAAAABAAAAAAAAAAEAAAgAAAAAAQAAKAAAAAABAAAQAAAAAAEAAAAA\n",
       "AAAAAQAACAAAAAABAAAoAAAAAAEAABAAAAAAAQAAAAAAAAABAAAIAAAAAAEAACgAAAAAAQAAEAAA\n",
       "AAABAAAAAAAAAAEAAAgAAAAAAQAAIAAAAAABAAAQAAAAAAEAAAAAAAAAHHN0c2MAAAAAAAAAAQAA\n",
       "AAEAAAAUAAAAAQAAAGRzdHN6AAAAAAAAAAAAAAAUAAAKQQAAAPcAAAArAAAAJAAAABsAAAAmAAAA\n",
       "HAAAABoAAAAQAAAAGAAAABIAAAAQAAAAEAAAABgAAAASAAAAEAAAABAAAAAZAAAAEAAAABAAAAAU\n",
       "c3RjbwAAAAAAAAABAAAALAAAAGJ1ZHRhAAAAWm1ldGEAAAAAAAAAIWhkbHIAAAAAAAAAAG1kaXJh\n",
       "cHBsAAAAAAAAAAAAAAAALWlsc3QAAAAlqXRvbwAAAB1kYXRhAAAAAQAAAABMYXZmNTYuNDAuMTAx\n",
       "\">\n",
       "  Your browser does not support the video tag.\n",
       "</video>"
      ],
      "text/plain": [
       "<matplotlib.animation.FuncAnimation at 0x7f0edeb2e358>"
      ]
     },
     "execution_count": 450,
     "metadata": {},
     "output_type": "execute_result"
    }
   ],
   "source": [
    "anim"
   ]
  },
  {
   "cell_type": "code",
   "execution_count": null,
   "metadata": {},
   "outputs": [],
   "source": []
  }
 ],
 "metadata": {
  "kernelspec": {
   "display_name": "Python 3",
   "language": "python",
   "name": "python3"
  },
  "language_info": {
   "codemirror_mode": {
    "name": "ipython",
    "version": 3
   },
   "file_extension": ".py",
   "mimetype": "text/x-python",
   "name": "python",
   "nbconvert_exporter": "python",
   "pygments_lexer": "ipython3",
   "version": "3.6.4"
  }
 },
 "nbformat": 4,
 "nbformat_minor": 2
}
